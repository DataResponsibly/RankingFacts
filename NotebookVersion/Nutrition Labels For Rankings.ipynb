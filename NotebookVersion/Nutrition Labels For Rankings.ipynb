{
 "cells": [
  {
   "cell_type": "code",
   "execution_count": 1,
   "metadata": {},
   "outputs": [],
   "source": [
    "import math\n",
    "import numpy as np\n",
    "import pandas as pd\n",
    "from scipy.stats import norm\n",
    "from nutrition_label_utility import *\n",
    "import matplotlib.pyplot as plt\n",
    "import seaborn as sns\n",
    "%matplotlib inline"
   ]
  },
  {
   "cell_type": "markdown",
   "metadata": {},
   "source": [
    "## 1. Use your own dataset or our sample datasets"
   ]
  },
  {
   "cell_type": "markdown",
   "metadata": {},
   "source": [
    "## Sample datasets\n",
    "### CS ranking\n",
    "[CSranking_faculty30.csv](dataset/CSranking_faculty30.csv) is a dataset with an additional sensitive attribute 'Department Size' that is a binarized attribute from 'Facult' in the dataset [CS Rankings (CSR)] (https://csrankings.org). It is merged with additional attributes from the [NRC assessment dataset] (http://www.nap.edu/rdp). This dataset has the following attributes: \n",
    "- Average Count (CSR) computes the geometric mean of the adjusted number of publications in each area by institution\n",
    "- Faculty (CSR) is the number of faculty in the department\n",
    "- GRE (NRC) is the average GRE scores (2004-2006)\n",
    "- Department size (CSR) is a binary attribute derived from Faculty. Small department has the number of faculty less or equal than 30.\n",
    "- Region (NRC) is one of Northeast(NE), Midwest(MW), South Atlantic(SA), South Central(SC), West(W) regions in the US\n",
    "- Pub Count (NRC) is the average number of publications per faculty (2000-2006)"
   ]
  },
  {
   "cell_type": "markdown",
   "metadata": {},
   "source": [
    "### German Credit\n",
    "[GermanCredit_age25.csv](dataset/GermanCredit_age25.csv) is a dataset with a binarized sensitive attribute 'AgeBinary' according to the threshold 25 from the dataset [German credit dataset](https://archive.ics.uci.edu/ml/datasets/Statlog+%28German+Credit+Data%29). It is originally hosted on UCI’s Machine Learning Repository, contains approximately 1000 observations, with 20 variables. The original dependent variable is whether or not an “individual” has good credit record."
   ]
  },
  {
   "cell_type": "markdown",
   "metadata": {},
   "source": [
    "### COMPAS\n",
    "[COMPAS_gender.csv](dataset/COMPAS_gender.csv) includes approximately sampled 1000 users' recidivism information from dataset [COMPAS](https://github.com/propublica/compas-analysis). It contains criminal history, jail and prison time, demographics and COMPAS risk scores for defendants from Broward County. "
   ]
  },
  {
   "cell_type": "markdown",
   "metadata": {},
   "source": [
    "### Adult\n",
    "[Adult_sample.csv](dataset/adult_sample.csv) includes includes 1000 complete records that are sampled from dataset [Adult](https://archive.ics.uci.edu/ml/datasets/adult) (with 48842 records). The extraction was done by Barry Becker from the 1994 Census database. A set of reasonably clean records was extracted using the following conditions: ((AAGE>16) && (AGI>100) && (AFNLWGT>1)&& (HRSWK>0)). Prediction task is to determine whether a person makes over 50K a year."
   ]
  },
  {
   "cell_type": "markdown",
   "metadata": {},
   "source": [
    "### Import dataset"
   ]
  },
  {
   "cell_type": "code",
   "execution_count": 2,
   "metadata": {},
   "outputs": [
    {
     "data": {
      "text/html": [
       "<div>\n",
       "<style scoped>\n",
       "    .dataframe tbody tr th:only-of-type {\n",
       "        vertical-align: middle;\n",
       "    }\n",
       "\n",
       "    .dataframe tbody tr th {\n",
       "        vertical-align: top;\n",
       "    }\n",
       "\n",
       "    .dataframe thead th {\n",
       "        text-align: right;\n",
       "    }\n",
       "</style>\n",
       "<table border=\"1\" class=\"dataframe\">\n",
       "  <thead>\n",
       "    <tr style=\"text-align: right;\">\n",
       "      <th></th>\n",
       "      <th>age</th>\n",
       "      <th>workclass</th>\n",
       "      <th>fnlwgt</th>\n",
       "      <th>education</th>\n",
       "      <th>education_num</th>\n",
       "      <th>marital_status</th>\n",
       "      <th>occupation</th>\n",
       "      <th>relationship</th>\n",
       "      <th>race</th>\n",
       "      <th>sex</th>\n",
       "      <th>capital_gain</th>\n",
       "      <th>capital_loss</th>\n",
       "      <th>hours_per_week</th>\n",
       "      <th>native_country</th>\n",
       "      <th>class</th>\n",
       "    </tr>\n",
       "  </thead>\n",
       "  <tbody>\n",
       "    <tr>\n",
       "      <th>0</th>\n",
       "      <td>49</td>\n",
       "      <td>Self-emp-inc</td>\n",
       "      <td>213354</td>\n",
       "      <td>Masters</td>\n",
       "      <td>14</td>\n",
       "      <td>Separated</td>\n",
       "      <td>Exec-managerial</td>\n",
       "      <td>Not-in-family</td>\n",
       "      <td>White</td>\n",
       "      <td>Male</td>\n",
       "      <td>0</td>\n",
       "      <td>0</td>\n",
       "      <td>70</td>\n",
       "      <td>United-States</td>\n",
       "      <td>&gt;50K</td>\n",
       "    </tr>\n",
       "    <tr>\n",
       "      <th>1</th>\n",
       "      <td>27</td>\n",
       "      <td>Local-gov</td>\n",
       "      <td>229223</td>\n",
       "      <td>Some-college</td>\n",
       "      <td>10</td>\n",
       "      <td>Never-married</td>\n",
       "      <td>Protective-serv</td>\n",
       "      <td>Own-child</td>\n",
       "      <td>White</td>\n",
       "      <td>Female</td>\n",
       "      <td>0</td>\n",
       "      <td>0</td>\n",
       "      <td>40</td>\n",
       "      <td>United-States</td>\n",
       "      <td>&gt;50K</td>\n",
       "    </tr>\n",
       "    <tr>\n",
       "      <th>2</th>\n",
       "      <td>31</td>\n",
       "      <td>Private</td>\n",
       "      <td>393357</td>\n",
       "      <td>9th</td>\n",
       "      <td>5</td>\n",
       "      <td>Married-civ-spouse</td>\n",
       "      <td>Handlers-cleaners</td>\n",
       "      <td>Husband</td>\n",
       "      <td>Black</td>\n",
       "      <td>Male</td>\n",
       "      <td>0</td>\n",
       "      <td>0</td>\n",
       "      <td>48</td>\n",
       "      <td>United-States</td>\n",
       "      <td>&lt;=50K</td>\n",
       "    </tr>\n",
       "    <tr>\n",
       "      <th>3</th>\n",
       "      <td>38</td>\n",
       "      <td>Private</td>\n",
       "      <td>99233</td>\n",
       "      <td>Prof-school</td>\n",
       "      <td>15</td>\n",
       "      <td>Never-married</td>\n",
       "      <td>Exec-managerial</td>\n",
       "      <td>Not-in-family</td>\n",
       "      <td>White</td>\n",
       "      <td>Male</td>\n",
       "      <td>0</td>\n",
       "      <td>0</td>\n",
       "      <td>40</td>\n",
       "      <td>United-States</td>\n",
       "      <td>&gt;50K</td>\n",
       "    </tr>\n",
       "    <tr>\n",
       "      <th>4</th>\n",
       "      <td>31</td>\n",
       "      <td>Private</td>\n",
       "      <td>215297</td>\n",
       "      <td>HS-grad</td>\n",
       "      <td>9</td>\n",
       "      <td>Married-civ-spouse</td>\n",
       "      <td>Craft-repair</td>\n",
       "      <td>Husband</td>\n",
       "      <td>White</td>\n",
       "      <td>Male</td>\n",
       "      <td>0</td>\n",
       "      <td>0</td>\n",
       "      <td>45</td>\n",
       "      <td>United-States</td>\n",
       "      <td>&lt;=50K</td>\n",
       "    </tr>\n",
       "  </tbody>\n",
       "</table>\n",
       "</div>"
      ],
      "text/plain": [
       "   age     workclass  fnlwgt     education  education_num      marital_status  \\\n",
       "0   49  Self-emp-inc  213354       Masters             14           Separated   \n",
       "1   27     Local-gov  229223  Some-college             10       Never-married   \n",
       "2   31       Private  393357           9th              5  Married-civ-spouse   \n",
       "3   38       Private   99233   Prof-school             15       Never-married   \n",
       "4   31       Private  215297       HS-grad              9  Married-civ-spouse   \n",
       "\n",
       "          occupation   relationship   race     sex  capital_gain  \\\n",
       "0    Exec-managerial  Not-in-family  White    Male             0   \n",
       "1    Protective-serv      Own-child  White  Female             0   \n",
       "2  Handlers-cleaners        Husband  Black    Male             0   \n",
       "3    Exec-managerial  Not-in-family  White    Male             0   \n",
       "4       Craft-repair        Husband  White    Male             0   \n",
       "\n",
       "   capital_loss  hours_per_week native_country  class  \n",
       "0             0              70  United-States   >50K  \n",
       "1             0              40  United-States   >50K  \n",
       "2             0              48  United-States  <=50K  \n",
       "3             0              40  United-States   >50K  \n",
       "4             0              45  United-States  <=50K  "
      ]
     },
     "execution_count": 2,
     "metadata": {},
     "output_type": "execute_result"
    }
   ],
   "source": [
    "# CS ranking\n",
    "# data = pd.read_csv(\"dataset/CSranking_faculty30.csv\")\n",
    "## German credit\n",
    "# data = pd.read_csv(\"dataset/GermanCredit_age25.csv\")\n",
    "## COMPAS\n",
    "# data = pd.read_csv(\"dataset/ProPublica_gender.csv\")\n",
    "## Adult\n",
    "data = pd.read_csv(\"dataset/adult_sample.csv\")\n",
    "data.head(5)"
   ]
  },
  {
   "cell_type": "markdown",
   "metadata": {},
   "source": [
    "## 2. Exploratory Data Analysis\n",
    "- Pre-process data set as need.\n",
    "- Explore the data set before choose the ranker."
   ]
  },
  {
   "cell_type": "markdown",
   "metadata": {},
   "source": [
    "### Preprocess data"
   ]
  },
  {
   "cell_type": "code",
   "execution_count": 3,
   "metadata": {},
   "outputs": [
    {
     "data": {
      "text/html": [
       "<div>\n",
       "<style scoped>\n",
       "    .dataframe tbody tr th:only-of-type {\n",
       "        vertical-align: middle;\n",
       "    }\n",
       "\n",
       "    .dataframe tbody tr th {\n",
       "        vertical-align: top;\n",
       "    }\n",
       "\n",
       "    .dataframe thead th {\n",
       "        text-align: right;\n",
       "    }\n",
       "</style>\n",
       "<table border=\"1\" class=\"dataframe\">\n",
       "  <thead>\n",
       "    <tr style=\"text-align: right;\">\n",
       "      <th></th>\n",
       "      <th>age</th>\n",
       "      <th>workclass</th>\n",
       "      <th>fnlwgt</th>\n",
       "      <th>education</th>\n",
       "      <th>education_num</th>\n",
       "      <th>marital_status</th>\n",
       "      <th>occupation</th>\n",
       "      <th>relationship</th>\n",
       "      <th>race</th>\n",
       "      <th>sex</th>\n",
       "      <th>capital_gain</th>\n",
       "      <th>capital_loss</th>\n",
       "      <th>hours_per_week</th>\n",
       "      <th>native_country</th>\n",
       "      <th>class</th>\n",
       "    </tr>\n",
       "  </thead>\n",
       "  <tbody>\n",
       "    <tr>\n",
       "      <th>0</th>\n",
       "      <td>0.797726</td>\n",
       "      <td>Self-emp-inc</td>\n",
       "      <td>0.246722</td>\n",
       "      <td>Masters</td>\n",
       "      <td>1.546161</td>\n",
       "      <td>Separated</td>\n",
       "      <td>Exec-managerial</td>\n",
       "      <td>Not-in-family</td>\n",
       "      <td>White</td>\n",
       "      <td>Male</td>\n",
       "      <td>-0.182772</td>\n",
       "      <td>-0.209776</td>\n",
       "      <td>2.485463</td>\n",
       "      <td>United-States</td>\n",
       "      <td>&gt;50K</td>\n",
       "    </tr>\n",
       "    <tr>\n",
       "      <th>1</th>\n",
       "      <td>-0.893185</td>\n",
       "      <td>Local-gov</td>\n",
       "      <td>0.409916</td>\n",
       "      <td>Some-college</td>\n",
       "      <td>-0.026339</td>\n",
       "      <td>Never-married</td>\n",
       "      <td>Protective-serv</td>\n",
       "      <td>Own-child</td>\n",
       "      <td>White</td>\n",
       "      <td>Female</td>\n",
       "      <td>-0.182772</td>\n",
       "      <td>-0.209776</td>\n",
       "      <td>-0.070984</td>\n",
       "      <td>United-States</td>\n",
       "      <td>&gt;50K</td>\n",
       "    </tr>\n",
       "    <tr>\n",
       "      <th>2</th>\n",
       "      <td>-0.585747</td>\n",
       "      <td>Private</td>\n",
       "      <td>2.097848</td>\n",
       "      <td>9th</td>\n",
       "      <td>-1.991965</td>\n",
       "      <td>Married-civ-spouse</td>\n",
       "      <td>Handlers-cleaners</td>\n",
       "      <td>Husband</td>\n",
       "      <td>Black</td>\n",
       "      <td>Male</td>\n",
       "      <td>-0.182772</td>\n",
       "      <td>-0.209776</td>\n",
       "      <td>0.610735</td>\n",
       "      <td>United-States</td>\n",
       "      <td>&lt;=50K</td>\n",
       "    </tr>\n",
       "    <tr>\n",
       "      <th>3</th>\n",
       "      <td>-0.047730</td>\n",
       "      <td>Private</td>\n",
       "      <td>-0.926883</td>\n",
       "      <td>Prof-school</td>\n",
       "      <td>1.939286</td>\n",
       "      <td>Never-married</td>\n",
       "      <td>Exec-managerial</td>\n",
       "      <td>Not-in-family</td>\n",
       "      <td>White</td>\n",
       "      <td>Male</td>\n",
       "      <td>-0.182772</td>\n",
       "      <td>-0.209776</td>\n",
       "      <td>-0.070984</td>\n",
       "      <td>United-States</td>\n",
       "      <td>&gt;50K</td>\n",
       "    </tr>\n",
       "    <tr>\n",
       "      <th>4</th>\n",
       "      <td>-0.585747</td>\n",
       "      <td>Private</td>\n",
       "      <td>0.266703</td>\n",
       "      <td>HS-grad</td>\n",
       "      <td>-0.419464</td>\n",
       "      <td>Married-civ-spouse</td>\n",
       "      <td>Craft-repair</td>\n",
       "      <td>Husband</td>\n",
       "      <td>White</td>\n",
       "      <td>Male</td>\n",
       "      <td>-0.182772</td>\n",
       "      <td>-0.209776</td>\n",
       "      <td>0.355090</td>\n",
       "      <td>United-States</td>\n",
       "      <td>&lt;=50K</td>\n",
       "    </tr>\n",
       "  </tbody>\n",
       "</table>\n",
       "</div>"
      ],
      "text/plain": [
       "        age     workclass    fnlwgt     education  education_num  \\\n",
       "0  0.797726  Self-emp-inc  0.246722       Masters       1.546161   \n",
       "1 -0.893185     Local-gov  0.409916  Some-college      -0.026339   \n",
       "2 -0.585747       Private  2.097848           9th      -1.991965   \n",
       "3 -0.047730       Private -0.926883   Prof-school       1.939286   \n",
       "4 -0.585747       Private  0.266703       HS-grad      -0.419464   \n",
       "\n",
       "       marital_status         occupation   relationship   race     sex  \\\n",
       "0           Separated    Exec-managerial  Not-in-family  White    Male   \n",
       "1       Never-married    Protective-serv      Own-child  White  Female   \n",
       "2  Married-civ-spouse  Handlers-cleaners        Husband  Black    Male   \n",
       "3       Never-married    Exec-managerial  Not-in-family  White    Male   \n",
       "4  Married-civ-spouse       Craft-repair        Husband  White    Male   \n",
       "\n",
       "   capital_gain  capital_loss  hours_per_week native_country  class  \n",
       "0     -0.182772     -0.209776        2.485463  United-States   >50K  \n",
       "1     -0.182772     -0.209776       -0.070984  United-States   >50K  \n",
       "2     -0.182772     -0.209776        0.610735  United-States  <=50K  \n",
       "3     -0.182772     -0.209776       -0.070984  United-States   >50K  \n",
       "4     -0.182772     -0.209776        0.355090  United-States  <=50K  "
      ]
     },
     "execution_count": 3,
     "metadata": {},
     "output_type": "execute_result"
    }
   ],
   "source": [
    "## exclude the categorical data during preprocessing\n",
    "# ignore_atts = [\"College Name\",\"Department Size\", \"Regional Code\"] # for CS ranking\n",
    "# ignore_atts = [\"sex\", \"race\", \"c_charge_degree\", \"r_charge_degree\", \"v_score_text\", \"score_text\"] # for COMPAS \n",
    "ignore_atts = [\"workclass\", \"education\", \"marital_status\", \"occupation\", \"relationship\", \"race\", \"sex\", \"native_country\", \"class\"] # for adult\n",
    "\n",
    "cur_data = data.copy()\n",
    "norm_data = normalizeDataset(cur_data, ignore_atts)\n",
    "standarded_data = standardizeData(cur_data, ignore_atts)\n",
    "\n",
    "norm_data.head(5)"
   ]
  },
  {
   "cell_type": "markdown",
   "metadata": {},
   "source": [
    "### Attribute Distribution Visualization"
   ]
  },
  {
   "cell_type": "code",
   "execution_count": 4,
   "metadata": {},
   "outputs": [],
   "source": [
    "def visualize_att_dist(_data, _att, _category=False):\n",
    "    plt.figure(figsize=[12,5], dpi=100)\n",
    "    sns.set(style=\"darkgrid\")  \n",
    "    sns.set(font_scale = 1.5)\n",
    "    if _category: # for categorical attribute\n",
    "        vis_data = _data[_att].value_counts()\n",
    "        ax = sns.barplot(x=vis_data.index, y=vis_data.values);\n",
    "        ax.set_xlabel(_att)\n",
    "        if len(vis_data) >= 5:\n",
    "            ax.set_xticklabels(ax.get_xticklabels(), rotation=45)\n",
    "    else:\n",
    "        ax = sns.distplot(_data[_att], kde=False, color='steelblue');\n",
    "    ax.set_ylabel(\"Count\")\n",
    "    plt.tight_layout()"
   ]
  },
  {
   "cell_type": "code",
   "execution_count": 5,
   "metadata": {},
   "outputs": [
    {
     "name": "stderr",
     "output_type": "stream",
     "text": [
      "/Library/Python/3.8/site-packages/seaborn/distributions.py:2551: FutureWarning: `distplot` is a deprecated function and will be removed in a future version. Please adapt your code to use either `displot` (a figure-level function with similar flexibility) or `histplot` (an axes-level function for histograms).\n",
      "  warnings.warn(msg, FutureWarning)\n"
     ]
    },
    {
     "data": {
      "image/png": "[encoded data removed]",
      "text/plain": [
       "<Figure size 1200x500 with 1 Axes>"
      ]
     },
     "metadata": {
      "needs_background": "light"
     },
     "output_type": "display_data"
    },
    {
     "data": {
      "image/png": "[encoded data removed]",
      "text/plain": [
       "<Figure size 1200x500 with 1 Axes>"
      ]
     },
     "metadata": {},
     "output_type": "display_data"
    }
   ],
   "source": [
    "# # for COMPAS\n",
    "# visualize_att_dist(data, \"priors_count\")\n",
    "# visualize_att_dist(data, \"race\", _category=True)\n",
    "# for adult\n",
    "visualize_att_dist(data, \"age\")\n",
    "visualize_att_dist(data, \"race\", _category=True)"
   ]
  },
  {
   "cell_type": "markdown",
   "metadata": {},
   "source": [
    "### Attribute Correlation Visualization"
   ]
  },
  {
   "cell_type": "code",
   "execution_count": 6,
   "metadata": {},
   "outputs": [
    {
     "name": "stdout",
     "output_type": "stream",
     "text": [
      "--------------- CORRELATIONS ---------------\n",
      "                     age    fnlwgt  education_num  capital_gain  capital_loss  \\\n",
      "age             1.000000 -0.069868       0.040893      0.074785      0.090085   \n",
      "fnlwgt         -0.069868  1.000000       0.021889      0.025487      0.060219   \n",
      "education_num   0.040893  0.021889       1.000000      0.141789      0.087863   \n",
      "capital_gain    0.074785  0.025487       0.141789      1.000000     -0.038341   \n",
      "capital_loss    0.090085  0.060219       0.087863     -0.038341      1.000000   \n",
      "hours_per_week  0.105446  0.029732       0.197020      0.080212      0.036082   \n",
      "\n",
      "                hours_per_week  \n",
      "age                   0.105446  \n",
      "fnlwgt                0.029732  \n",
      "education_num         0.197020  \n",
      "capital_gain          0.080212  \n",
      "capital_loss          0.036082  \n",
      "hours_per_week        1.000000  \n",
      "--------------- CREATE A HEATMAP ---------------\n"
     ]
    },
    {
     "data": {
      "image/png": "[encoded data removed]",
      "text/plain": [
       "<Figure size 432x288 with 2 Axes>"
      ]
     },
     "metadata": {},
     "output_type": "display_data"
    }
   ],
   "source": [
    "corr_df = standarded_data.corr(method='pearson')\n",
    "print(\"--------------- CORRELATIONS ---------------\")\n",
    "print(corr_df.head(len(data)))\n",
    "print(\"--------------- CREATE A HEATMAP ---------------\")\n",
    "# Create a mask to display only the lower triangle of the matrix \n",
    "mask = np.zeros_like(corr_df)\n",
    "mask[np.triu_indices_from(mask)] = True\n",
    "sns.heatmap(corr_df, cmap='RdYlGn_r', vmax=1.0, vmin=-1.0 , mask = mask, linewidths=2.5)\n",
    "plt.yticks(rotation=0) \n",
    "plt.xticks(rotation=90) \n",
    "plt.show()"
   ]
  },
  {
   "cell_type": "markdown",
   "metadata": {},
   "source": [
    "## 3. Specify your ranker\n",
    "- Can be a rule-based ranker, e.g., scores are generated through a rule: f(x) = w_1 * Faculty(x) + w_2 * Average Count(x) + w_3 * GRE(x) (this ranking methodology is inspired by US World & News Report and CS Rankings)\n",
    "- Or can be other possible rankers: [Learning to Rank methods](http://www.morganclaypool.com/doi/abs/10.2200/S00607ED2V01Y201410HLT026)"
   ]
  },
  {
   "cell_type": "markdown",
   "metadata": {},
   "source": [
    "### Rule-based ranker"
   ]
  },
  {
   "cell_type": "code",
   "execution_count": 7,
   "metadata": {},
   "outputs": [
    {
     "data": {
      "text/html": [
       "<div>\n",
       "<style scoped>\n",
       "    .dataframe tbody tr th:only-of-type {\n",
       "        vertical-align: middle;\n",
       "    }\n",
       "\n",
       "    .dataframe tbody tr th {\n",
       "        vertical-align: top;\n",
       "    }\n",
       "\n",
       "    .dataframe thead th {\n",
       "        text-align: right;\n",
       "    }\n",
       "</style>\n",
       "<table border=\"1\" class=\"dataframe\">\n",
       "  <thead>\n",
       "    <tr style=\"text-align: right;\">\n",
       "      <th></th>\n",
       "      <th>age</th>\n",
       "      <th>workclass</th>\n",
       "      <th>fnlwgt</th>\n",
       "      <th>education</th>\n",
       "      <th>education_num</th>\n",
       "      <th>marital_status</th>\n",
       "      <th>occupation</th>\n",
       "      <th>relationship</th>\n",
       "      <th>race</th>\n",
       "      <th>sex</th>\n",
       "      <th>capital_gain</th>\n",
       "      <th>capital_loss</th>\n",
       "      <th>hours_per_week</th>\n",
       "      <th>native_country</th>\n",
       "      <th>class</th>\n",
       "      <th>Score</th>\n",
       "    </tr>\n",
       "  </thead>\n",
       "  <tbody>\n",
       "    <tr>\n",
       "      <th>0</th>\n",
       "      <td>0.797726</td>\n",
       "      <td>Self-emp-inc</td>\n",
       "      <td>0.246722</td>\n",
       "      <td>Masters</td>\n",
       "      <td>1.546161</td>\n",
       "      <td>Separated</td>\n",
       "      <td>Exec-managerial</td>\n",
       "      <td>Not-in-family</td>\n",
       "      <td>White</td>\n",
       "      <td>Male</td>\n",
       "      <td>-0.182772</td>\n",
       "      <td>-0.209776</td>\n",
       "      <td>2.485463</td>\n",
       "      <td>United-States</td>\n",
       "      <td>&gt;50K</td>\n",
       "      <td>4.829349</td>\n",
       "    </tr>\n",
       "    <tr>\n",
       "      <th>1</th>\n",
       "      <td>-0.893185</td>\n",
       "      <td>Local-gov</td>\n",
       "      <td>0.409916</td>\n",
       "      <td>Some-college</td>\n",
       "      <td>-0.026339</td>\n",
       "      <td>Never-married</td>\n",
       "      <td>Protective-serv</td>\n",
       "      <td>Own-child</td>\n",
       "      <td>White</td>\n",
       "      <td>Female</td>\n",
       "      <td>-0.182772</td>\n",
       "      <td>-0.209776</td>\n",
       "      <td>-0.070984</td>\n",
       "      <td>United-States</td>\n",
       "      <td>&gt;50K</td>\n",
       "      <td>-0.990509</td>\n",
       "    </tr>\n",
       "    <tr>\n",
       "      <th>2</th>\n",
       "      <td>-0.585747</td>\n",
       "      <td>Private</td>\n",
       "      <td>2.097848</td>\n",
       "      <td>9th</td>\n",
       "      <td>-1.991965</td>\n",
       "      <td>Married-civ-spouse</td>\n",
       "      <td>Handlers-cleaners</td>\n",
       "      <td>Husband</td>\n",
       "      <td>Black</td>\n",
       "      <td>Male</td>\n",
       "      <td>-0.182772</td>\n",
       "      <td>-0.209776</td>\n",
       "      <td>0.610735</td>\n",
       "      <td>United-States</td>\n",
       "      <td>&lt;=50K</td>\n",
       "      <td>-1.966976</td>\n",
       "    </tr>\n",
       "    <tr>\n",
       "      <th>3</th>\n",
       "      <td>-0.047730</td>\n",
       "      <td>Private</td>\n",
       "      <td>-0.926883</td>\n",
       "      <td>Prof-school</td>\n",
       "      <td>1.939286</td>\n",
       "      <td>Never-married</td>\n",
       "      <td>Exec-managerial</td>\n",
       "      <td>Not-in-family</td>\n",
       "      <td>White</td>\n",
       "      <td>Male</td>\n",
       "      <td>-0.182772</td>\n",
       "      <td>-0.209776</td>\n",
       "      <td>-0.070984</td>\n",
       "      <td>United-States</td>\n",
       "      <td>&gt;50K</td>\n",
       "      <td>1.820572</td>\n",
       "    </tr>\n",
       "    <tr>\n",
       "      <th>4</th>\n",
       "      <td>-0.585747</td>\n",
       "      <td>Private</td>\n",
       "      <td>0.266703</td>\n",
       "      <td>HS-grad</td>\n",
       "      <td>-0.419464</td>\n",
       "      <td>Married-civ-spouse</td>\n",
       "      <td>Craft-repair</td>\n",
       "      <td>Husband</td>\n",
       "      <td>White</td>\n",
       "      <td>Male</td>\n",
       "      <td>-0.182772</td>\n",
       "      <td>-0.209776</td>\n",
       "      <td>0.355090</td>\n",
       "      <td>United-States</td>\n",
       "      <td>&lt;=50K</td>\n",
       "      <td>-0.650121</td>\n",
       "    </tr>\n",
       "  </tbody>\n",
       "</table>\n",
       "</div>"
      ],
      "text/plain": [
       "        age     workclass    fnlwgt     education  education_num  \\\n",
       "0  0.797726  Self-emp-inc  0.246722       Masters       1.546161   \n",
       "1 -0.893185     Local-gov  0.409916  Some-college      -0.026339   \n",
       "2 -0.585747       Private  2.097848           9th      -1.991965   \n",
       "3 -0.047730       Private -0.926883   Prof-school       1.939286   \n",
       "4 -0.585747       Private  0.266703       HS-grad      -0.419464   \n",
       "\n",
       "       marital_status         occupation   relationship   race     sex  \\\n",
       "0           Separated    Exec-managerial  Not-in-family  White    Male   \n",
       "1       Never-married    Protective-serv      Own-child  White  Female   \n",
       "2  Married-civ-spouse  Handlers-cleaners        Husband  Black    Male   \n",
       "3       Never-married    Exec-managerial  Not-in-family  White    Male   \n",
       "4  Married-civ-spouse       Craft-repair        Husband  White    Male   \n",
       "\n",
       "   capital_gain  capital_loss  hours_per_week native_country  class     Score  \n",
       "0     -0.182772     -0.209776        2.485463  United-States   >50K  4.829349  \n",
       "1     -0.182772     -0.209776       -0.070984  United-States   >50K -0.990509  \n",
       "2     -0.182772     -0.209776        0.610735  United-States  <=50K -1.966976  \n",
       "3     -0.182772     -0.209776       -0.070984  United-States   >50K  1.820572  \n",
       "4     -0.182772     -0.209776        0.355090  United-States  <=50K -0.650121  "
      ]
     },
     "execution_count": 7,
     "metadata": {},
     "output_type": "execute_result"
    }
   ],
   "source": [
    "# specify the attributes used in the ranker and its correpsonding weight vector\n",
    "# # for CS Ranking\n",
    "# chosen_atts = [\"Average Count\", \"Faculty\", \"GRE\"]\n",
    "# weights = [1, 1, 1]\n",
    "\n",
    "# # for COMPAS for illustrative purpose\n",
    "# chosen_atts = [\"age\", \"priors_count\", \"decile_score\"]\n",
    "# weights = [1, 1, 1]\n",
    "\n",
    "# for adult for illustrative purpose\n",
    "chosen_atts = [\"age\", \"hours_per_week\", \"education_num\"]\n",
    "weights = [1, 1, 1]\n",
    "\n",
    "# must use preprocessed data such that the attributes are comparable\n",
    "norm_data[\"Score\"] = sum([weights[idx]*norm_data[atti] for idx, atti in enumerate(chosen_atts)])\n",
    "norm_data.head(5)"
   ]
  },
  {
   "cell_type": "markdown",
   "metadata": {},
   "source": [
    "## 4. Nutrition Labels for your ranker\n",
    "- Web application of Nutrition Labels for Rankings is alive in http://demo.dataresponsibly.com/rankingfacts/\n",
    "- Focus on the following examplified interpretability questions regarding the ranked outcomes. \n",
    "\n",
    "1) (Data) What would be a good feature set for the decisions? \n",
    "\n",
    "2) (Outcomes) Is 10.5 a high score or a low score? \n",
    "   - The score generation rule alone does not indicate the relative rank of an item. \n",
    "   - It depends on how 10.5 compares to the scores of other items.\n",
    "   \n",
    "3) (Outcomes) Is the generated scores stable? \n",
    "   - Unless raw scores are disclosed, the user has no information about the magnitude of the difference in scores   between items that appear in consecutive ranks. \n",
    "   - In CS ranking dataset, CMU (18.3) has a much higher score than the immediately following MIT (15). This is in contrast to UIUC (10.5, rank 5) and UW (10.3, rank 6), which arenearly tied.\n",
    "   \n",
    "4) (Outcomes) Is there any unfair treatment*?\n",
    "\n",
    "5) (Outcomes) How are departments represented in the ranking?\n",
    "\n",
    "6) (Rankers) How to interpretate the weight? \n",
    "   - The weight of an attribute in the score generation rule does not determine its impact on the outcome.\n",
    "   - For example, given f(x) = 0.2 * Faculty(x) + 0.3 * Average Count(x) + 0.5 * GRE(x), yet for data in Table 1, attribute Faculty will be the deciding factor that sets apart top-ranked departments from those in lower ranks. \n",
    "   - This is because the value of Faculty changes most dramatically in the data, and because it correlates with     Average Count (in effect, double-counting).\n",
    "    \n",
    "7) (Rankers) Is the ranking methodology stable? \n",
    "   - For example, a score generation rule:  f(x) = Pub Count(x) + GRE(x) would be unstable, because the values of these attributes are both very close for many of the items and induce different rankings.\n",
    "   - Prioritizing one attribute over the other slightly would cause significant re-shuffling.\n"
   ]
  },
  {
   "cell_type": "markdown",
   "metadata": {},
   "source": [
    "## Recipe and Ingredients\n",
    "- These two labels help to explain the ranking methodology. \n",
    "- The Recipe label succinctly describes the ranking algorithm. It states the explicit intentions of the designer of the score generation rule about which attributes matter and to what extent.\n",
    "    - For example, for a linear score generation rule, each attribute would be listed together with its weight. \n",
    "- The Ingredients label lists attributes most material to the ranked outcome, in order of importance. \n",
    "    - It may show show additional attributes associated with high rank. Such associations can be derived with linear models or with other Black-box methods.\n",
    "    - For example, for a linear model, this list could present the attributes with the highest learned weights. \n",
    "- The Recipe and Ingredients labels also list statistics of the attributes in the Recipe and in the Ingredients.\n",
    "    - minimum, maximum and median values at the top-10 and over-all."
   ]
  },
  {
   "cell_type": "code",
   "execution_count": 8,
   "metadata": {},
   "outputs": [],
   "source": [
    "def compute_statistic(_data, _atts):\n",
    "    \"\"\"\n",
    "    Compute the statistics of input attributes.\n",
    "\n",
    "    Attributes:\n",
    "        _data: dataframe that stored the data\n",
    "        _atts: array that stores the attributes to be computed\n",
    "    Return:  json data of computed statistics\n",
    "    \"\"\"\n",
    "    output_df = pd.DataFrame(columns=[\"attribute\", \"median\", \"mean\", \"min\", \"max\"])\n",
    "    for atti in _atts:\n",
    "        atti_stats = _data.describe().loc[[\"50%\", \"mean\", \"min\", \"max\"], atti].tolist()\n",
    "        output_df.loc[output_df.shape[0]] = [atti] + atti_stats\n",
    "    return output_df"
   ]
  },
  {
   "cell_type": "markdown",
   "metadata": {},
   "source": [
    "### Recipe for top-10 ranking"
   ]
  },
  {
   "cell_type": "code",
   "execution_count": 9,
   "metadata": {},
   "outputs": [
    {
     "name": "stdout",
     "output_type": "stream",
     "text": [
      "--------------- RANKER USE FOLLOWING ATTRIBUTES ---------------\n",
      "['age', 'hours_per_week', 'education_num']\n",
      "--------------- STATISTICALS OF ATTRIBUTES FOR TOP-10 RANKING ---------------\n"
     ]
    },
    {
     "data": {
      "text/html": [
       "<div>\n",
       "<style scoped>\n",
       "    .dataframe tbody tr th:only-of-type {\n",
       "        vertical-align: middle;\n",
       "    }\n",
       "\n",
       "    .dataframe tbody tr th {\n",
       "        vertical-align: top;\n",
       "    }\n",
       "\n",
       "    .dataframe thead th {\n",
       "        text-align: right;\n",
       "    }\n",
       "</style>\n",
       "<table border=\"1\" class=\"dataframe\">\n",
       "  <thead>\n",
       "    <tr style=\"text-align: right;\">\n",
       "      <th></th>\n",
       "      <th>attribute</th>\n",
       "      <th>median</th>\n",
       "      <th>mean</th>\n",
       "      <th>min</th>\n",
       "      <th>max</th>\n",
       "    </tr>\n",
       "  </thead>\n",
       "  <tbody>\n",
       "    <tr>\n",
       "      <th>0</th>\n",
       "      <td>age</td>\n",
       "      <td>-0.009300</td>\n",
       "      <td>0.067560</td>\n",
       "      <td>-1.661781</td>\n",
       "      <td>2.872934</td>\n",
       "    </tr>\n",
       "    <tr>\n",
       "      <th>1</th>\n",
       "      <td>hours_per_week</td>\n",
       "      <td>0.142053</td>\n",
       "      <td>0.210225</td>\n",
       "      <td>-2.457001</td>\n",
       "      <td>2.996752</td>\n",
       "    </tr>\n",
       "    <tr>\n",
       "      <th>2</th>\n",
       "      <td>education_num</td>\n",
       "      <td>-0.419464</td>\n",
       "      <td>-0.262214</td>\n",
       "      <td>-1.991965</td>\n",
       "      <td>1.939286</td>\n",
       "    </tr>\n",
       "  </tbody>\n",
       "</table>\n",
       "</div>"
      ],
      "text/plain": [
       "        attribute    median      mean       min       max\n",
       "0             age -0.009300  0.067560 -1.661781  2.872934\n",
       "1  hours_per_week  0.142053  0.210225 -2.457001  2.996752\n",
       "2   education_num -0.419464 -0.262214 -1.991965  1.939286"
      ]
     },
     "execution_count": 9,
     "metadata": {},
     "output_type": "execute_result"
    }
   ],
   "source": [
    "print(\"--------------- RANKER USE FOLLOWING ATTRIBUTES ---------------\")\n",
    "print(chosen_atts)\n",
    "print(\"--------------- STATISTICALS OF ATTRIBUTES FOR TOP-10 RANKING ---------------\")\n",
    "compute_statistic(norm_data.head(10), chosen_atts)"
   ]
  },
  {
   "cell_type": "markdown",
   "metadata": {},
   "source": [
    "### Recipe for overall ranking"
   ]
  },
  {
   "cell_type": "code",
   "execution_count": 10,
   "metadata": {},
   "outputs": [
    {
     "name": "stdout",
     "output_type": "stream",
     "text": [
      "--------------- STATISTICALS OF ATTRIBUTES FOR OVERALL RANKING ---------------\n"
     ]
    },
    {
     "data": {
      "text/html": [
       "<div>\n",
       "<style scoped>\n",
       "    .dataframe tbody tr th:only-of-type {\n",
       "        vertical-align: middle;\n",
       "    }\n",
       "\n",
       "    .dataframe tbody tr th {\n",
       "        vertical-align: top;\n",
       "    }\n",
       "\n",
       "    .dataframe thead th {\n",
       "        text-align: right;\n",
       "    }\n",
       "</style>\n",
       "<table border=\"1\" class=\"dataframe\">\n",
       "  <thead>\n",
       "    <tr style=\"text-align: right;\">\n",
       "      <th></th>\n",
       "      <th>attribute</th>\n",
       "      <th>median</th>\n",
       "      <th>mean</th>\n",
       "      <th>min</th>\n",
       "      <th>max</th>\n",
       "    </tr>\n",
       "  </thead>\n",
       "  <tbody>\n",
       "    <tr>\n",
       "      <th>0</th>\n",
       "      <td>age</td>\n",
       "      <td>-0.124589</td>\n",
       "      <td>-2.714273e-15</td>\n",
       "      <td>-1.661781</td>\n",
       "      <td>3.334092</td>\n",
       "    </tr>\n",
       "    <tr>\n",
       "      <th>1</th>\n",
       "      <td>hours_per_week</td>\n",
       "      <td>-0.070984</td>\n",
       "      <td>3.073097e-16</td>\n",
       "      <td>-3.138720</td>\n",
       "      <td>4.956695</td>\n",
       "    </tr>\n",
       "    <tr>\n",
       "      <th>2</th>\n",
       "      <td>education_num</td>\n",
       "      <td>-0.026339</td>\n",
       "      <td>8.050449e-15</td>\n",
       "      <td>-3.171340</td>\n",
       "      <td>2.332411</td>\n",
       "    </tr>\n",
       "  </tbody>\n",
       "</table>\n",
       "</div>"
      ],
      "text/plain": [
       "        attribute    median          mean       min       max\n",
       "0             age -0.124589 -2.714273e-15 -1.661781  3.334092\n",
       "1  hours_per_week -0.070984  3.073097e-16 -3.138720  4.956695\n",
       "2   education_num -0.026339  8.050449e-15 -3.171340  2.332411"
      ]
     },
     "execution_count": 10,
     "metadata": {},
     "output_type": "execute_result"
    }
   ],
   "source": [
    "print(\"--------------- STATISTICALS OF ATTRIBUTES FOR OVERALL RANKING ---------------\")\n",
    "compute_statistic(norm_data, chosen_atts)"
   ]
  },
  {
   "cell_type": "markdown",
   "metadata": {},
   "source": [
    "### Ingredients"
   ]
  },
  {
   "cell_type": "code",
   "execution_count": 11,
   "metadata": {},
   "outputs": [],
   "source": [
    "def linear_correlation(_data, _y_col=\"Score\", top_threshold=0.5, round_default=2):\n",
    "    \"\"\"\n",
    "    Compute the correlation between attributes and generated scores using linear regression.\n",
    "\n",
    "    Attributes:\n",
    "        _data: dataframe that stored the data\n",
    "        _y_col: column name of Y variable\n",
    "        top_threshold: threshold of attribute coefficient\n",
    "        round_default: threshold of round function for the returned coefficient\n",
    "    Return:  list of correlated attributes and its coefficients\n",
    "    \"\"\"\n",
    "    num_atts = list(_data.iloc[:,:-1].describe().columns)\n",
    "    X = _data[num_atts].values\n",
    "    y = _data[_y_col].values\n",
    "\n",
    "    regr = linear_model.LinearRegression(normalize=False)\n",
    "    regr.fit(X, y)\n",
    "    for i in range(len(regr.coef_)):\n",
    "        regr.coef_[i] = round(regr.coef_[i], round_default)\n",
    "    # normalize coefficients to [-1,1]\n",
    "    max_coef = max(regr.coef_)\n",
    "    min_coef = min(regr.coef_)\n",
    "    abs_max = max(abs(max_coef),abs(min_coef))\n",
    "    norm_coef = []\n",
    "    for ci in regr.coef_:\n",
    "        new_ci = round(ci/abs_max,round_default)\n",
    "        norm_coef.append(new_ci)\n",
    "    coeff_zip = zip(norm_coef, num_atts)\n",
    "    return_coeff = {}\n",
    "    for ci, atti in coeff_zip:\n",
    "        if ci > top_threshold:\n",
    "            return_coeff[atti] = ci\n",
    "    return return_coeff"
   ]
  },
  {
   "cell_type": "code",
   "execution_count": 12,
   "metadata": {},
   "outputs": [
    {
     "name": "stdout",
     "output_type": "stream",
     "text": [
      "--------------- IMPORTANT ATTRIBUTES ---------------\n"
     ]
    },
    {
     "data": {
      "text/plain": [
       "{'age': 1.0, 'education_num': 1.0, 'hours_per_week': 1.0}"
      ]
     },
     "execution_count": 12,
     "metadata": {},
     "output_type": "execute_result"
    }
   ],
   "source": [
    "print(\"--------------- IMPORTANT ATTRIBUTES ---------------\")\n",
    "lg_weights = linear_correlation(norm_data)\n",
    "lg_weights"
   ]
  },
  {
   "cell_type": "markdown",
   "metadata": {},
   "source": [
    "### More details in Ingredients"
   ]
  },
  {
   "cell_type": "code",
   "execution_count": 13,
   "metadata": {},
   "outputs": [
    {
     "name": "stdout",
     "output_type": "stream",
     "text": [
      "--------------- STATISTICS OF IMPORTANT ATTRIBUTES for TOP-10 RANKING ---------------\n"
     ]
    }
   ],
   "source": [
    "learned_atts = lg_weights.keys()\n",
    "print(\"--------------- STATISTICS OF IMPORTANT ATTRIBUTES for TOP-10 RANKING ---------------\")\n",
    "if len(set(learned_atts).intersection(set(chosen_atts))) != len(chosen_atts):\n",
    "    print (compute_statistic(norm_data.head(10), learned_atts))\n",
    "else:\n",
    "    pass"
   ]
  },
  {
   "cell_type": "code",
   "execution_count": 14,
   "metadata": {},
   "outputs": [
    {
     "name": "stdout",
     "output_type": "stream",
     "text": [
      "--------------- STATISTICS OF IMPORTANT ATTRIBUTES FOR OVERALL RANKING ---------------\n"
     ]
    }
   ],
   "source": [
    "print(\"--------------- STATISTICS OF IMPORTANT ATTRIBUTES FOR OVERALL RANKING ---------------\")\n",
    "if len(set(learned_atts).intersection(set(chosen_atts))) != len(chosen_atts):\n",
    "    print (compute_statistic(norm_data, learned_atts))\n",
    "else:\n",
    "    pass"
   ]
  },
  {
   "cell_type": "markdown",
   "metadata": {},
   "source": [
    "## Stability\n",
    "- The Stability label explains whether the ranking methodology is robust on this particular dataset. \n",
    "    - An unstable ranking is one where slight changes to the data (e.g., due to uncertainty and noise), or to the methodology (e.g., by slightly adjusting the weights in a score-based ranker) could lead to a significant change in the output. \n",
    "- This Stability label reports a stability score, as a single number that indicates the extent of the change required for the ranking to change.\n",
    "    - The stability of the ranking is quantified as the slope of the line that is fit to the score distribution, at the top-10 and over-all.\n",
    "    - A score distribution is unstable if scores of items in adjacent ranks are close to each other (|slope| <= 0.25), and so a very small change in scores will lead to a change in the ranking. "
   ]
  },
  {
   "cell_type": "code",
   "execution_count": 15,
   "metadata": {},
   "outputs": [],
   "source": [
    "def visualize_stability(_data, _y_col=\"Score\", _top_n=100):\n",
    "    plt.figure(figsize=[6,5],dpi=100)\n",
    "    sns.set(style=\"darkgrid\")  \n",
    "    sns.set(font_scale = 1.5)\n",
    "    vis_data = _data.head(_top_n)\n",
    "    vis_x = [x+1 for x in vis_data.index]\n",
    "    vis_y = sorted(vis_data[_y_col], reverse=True)\n",
    "    ax = sns.scatterplot(vis_x, vis_y, color=\"steelblue\");\n",
    "    ax.set_xlabel(\"Position\")\n",
    "    ax.set_ylabel(_y_col)\n",
    "    plt.tight_layout()\n",
    "def compute_slope_scores(_data, _y_col=\"Score\", round_default=2):\n",
    "    \"\"\"\n",
    "    Compute the slop of a list of scores.\n",
    "\n",
    "    Attributes:\n",
    "        _data: file name that stored the data\n",
    "        _y_col: column name of Y variable\n",
    "        round_default: threshold of round function for the returned stability\n",
    "    Return:  slope of scores in the input _data\n",
    "    \"\"\"\n",
    "    xd = [i for i in range(1,len(_data)+1)]\n",
    "    yd = _data[_y_col].values\n",
    "    par = np.polyfit(xd, yd, 1, full=True)\n",
    "    slope = par[0][0]\n",
    "    return abs(round(slope, round_default))"
   ]
  },
  {
   "cell_type": "code",
   "execution_count": 16,
   "metadata": {},
   "outputs": [
    {
     "name": "stdout",
     "output_type": "stream",
     "text": [
      "--------------- STABLE AT TOP 10 (STABILITY AS 0.27) ---------------\n",
      "--------------- UNSTABLE OVERALL (STABILITY AS 0.0) ---------------\n"
     ]
    },
    {
     "name": "stderr",
     "output_type": "stream",
     "text": [
      "/Library/Python/3.8/site-packages/seaborn/_decorators.py:36: FutureWarning: Pass the following variables as keyword args: x, y. From version 0.12, the only valid positional argument will be `data`, and passing other arguments without an explicit keyword will result in an error or misinterpretation.\n",
      "  warnings.warn(\n"
     ]
    },
    {
     "data": {
      "image/png": "[encoded data removed]",
      "text/plain": [
       "<Figure size 600x500 with 1 Axes>"
      ]
     },
     "metadata": {},
     "output_type": "display_data"
    }
   ],
   "source": [
    "top10_stability = compute_slope_scores(norm_data.head(10))\n",
    "if top10_stability <= 0.25:\n",
    "    print(\"--------------- UNSTABLE AT TOP 10 (STABILITY AS \"+str(top10_stability)+\") ---------------\") \n",
    "else:\n",
    "    print(\"--------------- STABLE AT TOP 10 (STABILITY AS \"+str(top10_stability)+\") ---------------\") \n",
    "all_stability = compute_slope_scores(norm_data)\n",
    "if all_stability <= 0.25:\n",
    "    print(\"--------------- UNSTABLE OVERALL (STABILITY AS \"+str(all_stability)+\") ---------------\") \n",
    "else:\n",
    "    print(\"--------------- STABLE OVERALL (STABILITY AS \"+str(all_stability)+\") ---------------\")     \n",
    "visualize_stability(norm_data)"
   ]
  },
  {
   "cell_type": "markdown",
   "metadata": {},
   "source": [
    "## Fairness\n",
    "- The Fairness label quantifies whether the ranked output exhibits statistical parity with respect to one or more sensitive attributes, such as gender or race of individuals. \n",
    "- All these measures are statistical tests, and whether a result is fair is determined by the computed p-value.\n",
    "- NULL hypothesis is that ranking process is fair for protected group.\n",
    "- The results fo three measures of statistical parity are shown: [FA*IR](https://dl.acm.org/citation.cfm?doid=3132847.3132938), [proportion](https://doi.org/10.1007/s10618-017-0506-1), and [pairwise comparison](https://arxiv.org/pdf/1804.07890.pdf).\n",
    "- A ranking is considered unfair when the p-value of the corresponding statistical test falls below 0.05 or based on the adjusted alpha for FA*IR."
   ]
  },
  {
   "cell_type": "markdown",
   "metadata": {},
   "source": [
    "### FA* IR measure"
   ]
  },
  {
   "cell_type": "code",
   "execution_count": 17,
   "metadata": {},
   "outputs": [],
   "source": [
    "def compute_p_FAIR(_data, _att, _protected_group, _y_col=\"Score\", top_k = 100, round_default = 2):\n",
    "    \"\"\"\n",
    "    Compute p-value using FA*IR algorithm\n",
    "\n",
    "    Attributes:\n",
    "        _data: dataframe that stored the data\n",
    "        _att: sensitive attribute name\n",
    "        _protected_group: the value of sensitive attribute for protected group\n",
    "        _y_col: the column that stores the values of ranking\n",
    "        top_k: the top ranking to verify group fairness\n",
    "        round_default: threshold of round function\n",
    "    Return:  rounded p-value and adjusted significance level in FA*IR\n",
    "    \"\"\"\n",
    "    _data.sort_values(by=_y_col, ascending=False, inplace=True)\n",
    "    _data.reset_index(drop=True, inplace=True)\n",
    "    if len(_data)/2 < top_k:\n",
    "        top_k = int(len(_data)/2)\n",
    "    pos_protected = _data[_data[_att]==_protected_group].index+1\n",
    "    pro_prob = len(pos_protected)/len(_data)\n",
    "\n",
    "    # transform ranking to a ranking of tuples with (id,\"pro\")/(id,\"unpro\") to run FA*IR\n",
    "    transformed_ranking = []\n",
    "    for index, row in _data.head(top_k).iterrows():\n",
    "        if row[_att] == _protected_group:\n",
    "            transformed_ranking.append([index,\"pro\"])\n",
    "        else:\n",
    "            transformed_ranking.append([index,\"unpro\"])\n",
    "\n",
    "    p_value, isFair, posiFail, alpha_c, pro_needed_list = computeFairRankingProbability(top_k, pro_prob, transformed_ranking)\n",
    "    return p_value, isFair, posiFail, round(alpha_c,round_default)"
   ]
  },
  {
   "cell_type": "code",
   "execution_count": 18,
   "metadata": {},
   "outputs": [
    {
     "name": "stdout",
     "output_type": "stream",
     "text": [
      "--------------- GROUP FAIRNESS VERIFICATION CONSIDERING sex ---------------\n",
      "--------------- FAIR FOR Male (p=0.999957133434668, alpha=0.79) ---------------\n",
      "--------------- UNFAIR FOR Female (p=0.00011216632883426792, alpha=0.81) FAIL AT RANK POSITION 15 ---------\n"
     ]
    }
   ],
   "source": [
    "# sensi_att = \"Department Size\" # for CS Ranking\n",
    "# sensi_att = \"sex\" # for COMPAS \n",
    "sensi_att = \"sex\" # for adult\n",
    "protected_groups = norm_data[sensi_att].unique()\n",
    "print(\"--------------- GROUP FAIRNESS VERIFICATION CONSIDERING \"+sensi_att+\" ---------------\") \n",
    "for vi in protected_groups:\n",
    "    vi_p, fair_res, pos_fail, vi_alpha = compute_p_FAIR(norm_data, sensi_att, vi)\n",
    "    if fair_res:\n",
    "        print(\"--------------- FAIR FOR \"+vi+\" (p=\"+str(vi_p)+\", alpha=\"+str(vi_alpha)+\") ---------------\") \n",
    "    else:\n",
    "        print(\"--------------- UNFAIR FOR \"+vi+\" (p=\"+str(vi_p)+\", alpha=\"+str(vi_alpha)+\") FAIL AT RANK POSITION \"+str(pos_fail)+\" ---------\") "
   ]
  },
  {
   "cell_type": "markdown",
   "metadata": {},
   "source": [
    "### Pairwise comparison"
   ]
  },
  {
   "cell_type": "code",
   "execution_count": 19,
   "metadata": {},
   "outputs": [],
   "source": [
    "def compute_p_pairs(_data, _att, _protected_group, _y_col=\"Score\", run_time = 100, round_default = 2):\n",
    "    \"\"\"\n",
    "    Compute p-value using Pairwise oracle\n",
    "\n",
    "    Attributes:\n",
    "        _data: dataframe that stored the data\n",
    "        _att: sensitive attribute name\n",
    "        _protected_group: the value of sensitive attribute for protected group\n",
    "        _y_col: the column that stores the values of ranking\n",
    "        run_time: simulation times for pairwise comparison\n",
    "        round_default: threshold of round function\n",
    "    Return:  rounded p-value\n",
    "    \"\"\"\n",
    "    _data.sort_values(by=_y_col, ascending=False, inplace=True)\n",
    "    _data.reset_index(drop=True, inplace=True)\n",
    "    pos_protected = _data[_data[_att]==_protected_group].index+1\n",
    "    pro_prob = len(pos_protected)/len(_data)\n",
    "    total_n = len(_data)\n",
    "    pro_n = len(pos_protected)\n",
    "    seed_random_ranking = [x for x in range(total_n)]  # list of IDs\n",
    "    seed_f_index = [x for x in range(pro_n)]  # list of IDs\n",
    "    \n",
    "    sim_df = pd.DataFrame(columns=[\"Run\", \"pair_n\"])\n",
    "    # run the simulation of ranking generation, in each simulation, generate a fair ranking with input N and size of sensitive group\n",
    "    for ri in range(run_time):\n",
    "        output_ranking = mergeUnfairRanking(seed_random_ranking, seed_f_index, pro_prob)\n",
    "        position_pro_list = [i for i in range(total_n) if output_ranking[i] in seed_f_index]\n",
    "        count_sensi_prefered_pairs = 0\n",
    "        for i in range(len(position_pro_list)):\n",
    "            cur_position = position_pro_list[i]\n",
    "            left_sensi = pro_n - (i + 1)\n",
    "            count_sensi_prefered_pairs = count_sensi_prefered_pairs + (total_n - cur_position - left_sensi)\n",
    "        cur_row = [ri + 1, count_sensi_prefered_pairs]\n",
    "        sim_df.loc[sim_df.shape[0]] = cur_row\n",
    "\n",
    "    input_pair_n, _, _ = computePairN(_att, _protected_group, _data)\n",
    "    pair_samples = list(sim_df[\"pair_n\"].dropna())\n",
    "    return round(Cdf(pair_samples, input_pair_n), round_default)"
   ]
  },
  {
   "cell_type": "markdown",
   "metadata": {},
   "source": [
    "### Note that proportion method will take long time to finish with a larger dataset, e.g.  having more than 10,000 records. We use sampled dataset with 1,000 records to illustrate the computation."
   ]
  },
  {
   "cell_type": "code",
   "execution_count": 20,
   "metadata": {},
   "outputs": [
    {
     "name": "stdout",
     "output_type": "stream",
     "text": [
      "--------------- GROUP FAIRNESS VERIFICATION CONSIDERING sex ---------------\n",
      "--------------- FAIR FOR Male (p=1.0, alpha=0.05) ---------------\n",
      "--------------- UNFAIR FOR Female (p=0.0, alpha=0.05) --------------\n"
     ]
    }
   ],
   "source": [
    "# sensi_att = \"Department Size\" # for CS Ranking\n",
    "# sensi_att = \"sex\" # for COMPAS \n",
    "sensi_att = \"sex\" # for adult \n",
    "\n",
    "protected_groups = norm_data[sensi_att].unique()\n",
    "print(\"--------------- GROUP FAIRNESS VERIFICATION CONSIDERING \"+sensi_att+\" ---------------\") \n",
    "for vi in protected_groups:\n",
    "    vi_p = compute_p_pairs(norm_data, sensi_att, vi)\n",
    "    if vi_p > 0.05:\n",
    "        print(\"--------------- FAIR FOR \"+vi+\" (p=\"+str(vi_p)+\", alpha=0.05) ---------------\") \n",
    "    else:\n",
    "        print(\"--------------- UNFAIR FOR \"+vi+\" (p=\"+str(vi_p)+\", alpha=0.05) --------------\") "
   ]
  },
  {
   "cell_type": "markdown",
   "metadata": {},
   "source": [
    "### Proportion"
   ]
  },
  {
   "cell_type": "code",
   "execution_count": 21,
   "metadata": {},
   "outputs": [],
   "source": [
    "def compute_p_proportion(_data, _att, _protected_group, _y_col=\"Score\", top_k = 100, round_default = 2):\n",
    "    \"\"\"\n",
    "    Compute p-value using Proportion oracle, i.e., z-test method of 4.1.3 in \"A survey on measuring indirect discrimination in machine learning\".\n",
    "\n",
    "    Attributes:\n",
    "        _data: dataframe that stored the data\n",
    "        _att: sensitive attribute name\n",
    "        _protected_group: the value of sensitive attribute for protected group\n",
    "        _y_col: the column that stores the values of ranking\n",
    "        top_k: the top ranking to verify group fairness\n",
    "        round_default: threshold of round function\n",
    "    Return:  rounded p-value\n",
    "    \"\"\"\n",
    "    \n",
    "    _data.sort_values(by=_y_col, ascending=False, inplace=True)\n",
    "    _data.reset_index(drop=True, inplace=True)\n",
    "    if len(_data)/2 < top_k:\n",
    "        top_k = int(len(_data)/2)\n",
    "    total_n = len(_data)\n",
    "    pro_n = len(_data[_data[_att]==_protected_group])\n",
    "    unpro_n = total_n - pro_n\n",
    "    \n",
    "    top_data = _data.head(top_k)\n",
    "    pro_k = len(top_data[top_data[_att]==_protected_group])\n",
    "    unpro_k = top_k - pro_k\n",
    "    \n",
    "\n",
    "    pooledSE = math.sqrt((pro_k / pro_n * (1-pro_k/pro_n) / pro_n) + (unpro_k/unpro_n * (1-unpro_k/unpro_n) / unpro_n))\n",
    "    \n",
    "    z_test = (unpro_k/unpro_n - pro_k/pro_n) / pooledSE\n",
    "    p_value = norm.sf(z_test)\n",
    "\n",
    "    return round(p_value,round_default)"
   ]
  },
  {
   "cell_type": "code",
   "execution_count": 22,
   "metadata": {},
   "outputs": [
    {
     "name": "stdout",
     "output_type": "stream",
     "text": [
      "--------------- GROUP FAIRNESS VERIFICATION CONSIDERING sex ---------------\n",
      "--------------- FAIR FOR Male (p=1.0, alpha=0.05) ---------------\n",
      "--------------- UNFAIR FOR Female (p=0.0, alpha=0.05) --------------\n"
     ]
    }
   ],
   "source": [
    "# sensi_att = \"Department Size\" # for CS Ranking\n",
    "# sensi_att = \"sex\" # for COMPAS \n",
    "sensi_att = \"sex\" # for adult\n",
    "\n",
    "protected_groups = norm_data[sensi_att].unique()\n",
    "print(\"--------------- GROUP FAIRNESS VERIFICATION CONSIDERING \"+sensi_att+\" ---------------\") \n",
    "for vi in protected_groups:\n",
    "    vi_p = compute_p_proportion(norm_data, sensi_att, vi)\n",
    "    if vi_p > 0.05:\n",
    "        print(\"--------------- FAIR FOR \"+vi+\" (p=\"+str(vi_p)+\", alpha=0.05) ---------------\") \n",
    "    else:\n",
    "        print(\"--------------- UNFAIR FOR \"+vi+\" (p=\"+str(vi_p)+\", alpha=0.05) --------------\") "
   ]
  },
  {
   "cell_type": "markdown",
   "metadata": {},
   "source": [
    "## Diversity\n",
    "- The Diversity label shows diversity with respect to a set of demographic categories of individuals, or a set of categorical attributes of other kinds of items. \n",
    "- This label displays the proportion of each category in the top-10 ranked list and over-all.\n",
    "- Like other labels, it is updated as the user selects different ranking methods or sets different weights. "
   ]
  },
  {
   "cell_type": "code",
   "execution_count": 23,
   "metadata": {},
   "outputs": [],
   "source": [
    "def visualize_diversity(_data, _att, _y_col=\"Score\"):\n",
    "    plt.figure(figsize=[6,5],dpi=100)\n",
    "    sns.set(font_scale = 1)\n",
    "    sns.set_palette(palette=\"pastel\")\n",
    "    sort_data = _data.sort_values(by=_y_col, ascending=False)\n",
    "    vis_count = sort_data[_att].value_counts()\n",
    "    plt.pie(list(vis_count.values), labels=list(vis_count.index));\n",
    "    plt.title(_att)\n",
    "    plt.tight_layout()"
   ]
  },
  {
   "cell_type": "markdown",
   "metadata": {},
   "source": [
    "### Diversity for top-10 ranking"
   ]
  },
  {
   "cell_type": "code",
   "execution_count": 24,
   "metadata": {},
   "outputs": [
    {
     "data": {
      "image/png": "[encoded data removed]",
      "text/plain": [
       "<Figure size 600x500 with 1 Axes>"
      ]
     },
     "metadata": {},
     "output_type": "display_data"
    },
    {
     "data": {
      "image/png": "[encoded data removed]",
      "text/plain": [
       "<Figure size 600x500 with 1 Axes>"
      ]
     },
     "metadata": {},
     "output_type": "display_data"
    }
   ],
   "source": [
    "# chosen_atts = [\"Regional Code\", \"Department Size\"] # for CS Ranking\n",
    "# chosen_atts = [\"sex\", \"race\"] # for COMPAS\n",
    "chosen_atts = [\"sex\", \"race\"] # for adult\n",
    "for atti in chosen_atts:\n",
    "    visualize_diversity(norm_data.head(10), atti)"
   ]
  },
  {
   "cell_type": "markdown",
   "metadata": {},
   "source": [
    "### Diversity for overall ranking"
   ]
  },
  {
   "cell_type": "code",
   "execution_count": 25,
   "metadata": {},
   "outputs": [
    {
     "data": {
      "image/png": "[encoded data removed]",
      "text/plain": [
       "<Figure size 600x500 with 1 Axes>"
      ]
     },
     "metadata": {},
     "output_type": "display_data"
    },
    {
     "data": {
      "image/png": "[encoded data removed]",
      "text/plain": [
       "<Figure size 600x500 with 1 Axes>"
      ]
     },
     "metadata": {},
     "output_type": "display_data"
    }
   ],
   "source": [
    "for atti in chosen_atts:\n",
    "    visualize_diversity(norm_data, atti)"
   ]
  },
  {
   "cell_type": "code",
   "execution_count": null,
   "metadata": {},
   "outputs": [],
   "source": []
  }
 ],
 "metadata": {
  "kernelspec": {
   "display_name": "Python 3",
   "language": "python",
   "name": "python3"
  },
  "language_info": {
   "codemirror_mode": {
    "name": "ipython",
    "version": 3
   },
   "file_extension": ".py",
   "mimetype": "text/x-python",
   "name": "python",
   "nbconvert_exporter": "python",
   "pygments_lexer": "ipython3",
   "version": "3.8.2"
  }
 },
 "nbformat": 4,
 "nbformat_minor": 2
}
